{
 "cells": [
  {
   "cell_type": "markdown",
   "metadata": {},
   "source": [
    "# 3.2 NOTES"
   ]
  },
  {
   "cell_type": "markdown",
   "metadata": {},
   "source": [
    "Scheme programs consist of expressions, which are either call expressions or special forms. A call expression consists of an operator expression followed by zero or more operand sub-expressions."
   ]
  },
  {
   "cell_type": "markdown",
   "metadata": {},
   "source": [
    "(quotient 10 2) --> 5"
   ]
  },
  {
   "cell_type": "markdown",
   "metadata": {},
   "source": [
    "General form of `if` expression in scheme:"
   ]
  },
  {
   "cell_type": "raw",
   "metadata": {},
   "source": [
    "(if <predicate> <consequent> <alternative>)"
   ]
  },
  {
   "cell_type": "markdown",
   "metadata": {},
   "source": [
    "Interpreter starts by evaluating the `predicate` part of the expression. If its true, the interpeter then evaluates the `consequent` and returns its value. Otherwise, it evaluates the `alternative` and returns its value."
   ]
  },
  {
   "cell_type": "markdown",
   "metadata": {},
   "source": [
    "Boolean values are `#t` and `#f`."
   ]
  },
  {
   "cell_type": "markdown",
   "metadata": {},
   "source": [
    "Values can be named using the `define` special form: `(define pi 3.14)`"
   ]
  },
  {
   "cell_type": "markdown",
   "metadata": {},
   "source": [
    "Functions, called *procedures* in Scheme, are defined as follows: `(define (square x) (* x x))`"
   ]
  },
  {
   "cell_type": "markdown",
   "metadata": {},
   "source": [
    "Now we can call our procedure `square`: (square (+ 2 5)) --> 49"
   ]
  },
  {
   "cell_type": "raw",
   "metadata": {},
   "source": [
    "No-name procedures are created like this: (lambda (<formal-parameters>) <body>)"
   ]
  },
  {
   "cell_type": "markdown",
   "metadata": {},
   "source": [
    "Pairs, which are compound values, are built into the Scheme language. `(define x (cons 1 2))`"
   ]
  },
  {
   "cell_type": "markdown",
   "metadata": {},
   "source": [
    "(car x) --> 1, (cdr x) --> 2"
   ]
  },
  {
   "cell_type": "markdown",
   "metadata": {},
   "source": [
    "`nil` represents the empty list"
   ]
  },
  {
   "cell_type": "markdown",
   "metadata": {},
   "source": [
    "Define a recursive list: `(list 1 2 3 4)`. Use `null?` predicate to check if list is empty."
   ]
  },
  {
   "cell_type": "markdown",
   "metadata": {},
   "source": [
    "In Scheme, any expression that is not evaluated is said to be **quoted**."
   ]
  },
  {
   "cell_type": "markdown",
   "metadata": {},
   "source": [
    "`(define a 1)`"
   ]
  },
  {
   "cell_type": "markdown",
   "metadata": {},
   "source": [
    "`(define b 2)`"
   ]
  },
  {
   "cell_type": "markdown",
   "metadata": {},
   "source": [
    "`(list a b)` --> (1 2)"
   ]
  },
  {
   "cell_type": "markdown",
   "metadata": {},
   "source": [
    "`(list 'a 'b)` --> (a b)"
   ]
  },
  {
   "cell_type": "markdown",
   "metadata": {},
   "source": [
    "`(list 'a b)` --> (a 2)"
   ]
  },
  {
   "cell_type": "markdown",
   "metadata": {},
   "source": [
    "## Conditional expressions"
   ]
  },
  {
   "cell_type": "raw",
   "metadata": {},
   "source": [
    "(cond\n",
    "    (<p1> <el1>)\n",
    "    (<p2> <el2>)\n",
    "    ...\n",
    "    (<pn> <eln>)\n",
    "    (else <else-expressions>))"
   ]
  },
  {
   "cell_type": "markdown",
   "metadata": {},
   "source": [
    "Side note: in Scheme, all values except the special boolean value `False` are interpreted as true values."
   ]
  },
  {
   "cell_type": "raw",
   "metadata": {},
   "source": [
    "    Predicates `<p1>`, `<p2>`, ... are evaluated in order until one of them is true, then one of the <el> expressions is evaluated. If no predicates are true and an else clause is present, the sequence of `else-expressions` is evaluated"
   ]
  },
  {
   "cell_type": "code",
   "execution_count": null,
   "metadata": {},
   "outputs": [],
   "source": []
  }
 ],
 "metadata": {
  "kernelspec": {
   "display_name": "Python 3",
   "language": "python",
   "name": "python3"
  },
  "language_info": {
   "codemirror_mode": {
    "name": "ipython",
    "version": 3
   },
   "file_extension": ".py",
   "mimetype": "text/x-python",
   "name": "python",
   "nbconvert_exporter": "python",
   "pygments_lexer": "ipython3",
   "version": "3.6.5"
  }
 },
 "nbformat": 4,
 "nbformat_minor": 2
}
